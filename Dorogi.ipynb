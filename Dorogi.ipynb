{
 "cells": [
  {
   "cell_type": "markdown",
   "id": "54b06545-7eff-4bc5-a121-bf5bfa8ee183",
   "metadata": {},
   "source": [
    "### Описание задачи"
   ]
  },
  {
   "cell_type": "markdown",
   "id": "14775f53-ef69-4cf5-b4b0-31b293ac50c1",
   "metadata": {},
   "source": [
    "Из нейросети получены данные о заруженности в виде количества машин на перекрестке.\n",
    "Задача спрогнозировать количество траффика в нужный момент времени"
   ]
  },
  {
   "cell_type": "markdown",
   "id": "7e7a5981-7415-460d-b766-4f3240044df2",
   "metadata": {
    "tags": []
   },
   "source": [
    "### Импорты"
   ]
  },
  {
   "cell_type": "code",
   "execution_count": null,
   "id": "0011b25a-98dd-46c5-97fd-8b75e7f90055",
   "metadata": {},
   "outputs": [],
   "source": [
    "# pip install ephem"
   ]
  },
  {
   "cell_type": "code",
   "execution_count": 56,
   "id": "f846a791-f53c-4811-b882-6df3d2f4e10b",
   "metadata": {
    "execution": {
     "iopub.execute_input": "2023-06-16T17:32:55.024017Z",
     "iopub.status.busy": "2023-06-16T17:32:55.023723Z",
     "iopub.status.idle": "2023-06-16T17:32:55.027681Z",
     "shell.execute_reply": "2023-06-16T17:32:55.027184Z",
     "shell.execute_reply.started": "2023-06-16T17:32:55.023995Z"
    },
    "tags": []
   },
   "outputs": [],
   "source": [
    "import numpy as np\n",
    "import pandas as pd\n",
    "from sklearn.model_selection import train_test_split\n",
    "from sklearn.linear_model import LinearRegression\n",
    "import lightgbm as lgb\n",
    "from sklearn.metrics import mean_squared_error\n",
    "from sklearn.model_selection import cross_val_score\n",
    "from sklearn.model_selection import TimeSeriesSplit\n",
    "import ephem"
   ]
  },
  {
   "cell_type": "markdown",
   "id": "6326509d-75e1-444e-96eb-f293c5fd76ee",
   "metadata": {},
   "source": [
    "### Генерация данных"
   ]
  },
  {
   "cell_type": "code",
   "execution_count": 75,
   "id": "5335a5d7-f03e-41f5-9858-8862dfd191ab",
   "metadata": {
    "execution": {
     "iopub.execute_input": "2023-06-16T17:51:49.761086Z",
     "iopub.status.busy": "2023-06-16T17:51:49.760456Z",
     "iopub.status.idle": "2023-06-16T17:51:49.815846Z",
     "shell.execute_reply": "2023-06-16T17:51:49.815289Z",
     "shell.execute_reply.started": "2023-06-16T17:51:49.761066Z"
    },
    "tags": []
   },
   "outputs": [],
   "source": [
    "# Set the desired date range\n",
    "start_date = '2023-01-01'\n",
    "end_date = '2023-12-31'\n",
    "date_range = pd.date_range(start=start_date, end=end_date, freq='H')\n",
    "\n",
    "# Generate fake data with peak hours\n",
    "peak_hours = pd.date_range(start='07:00', end='10:00', freq='H').append(\n",
    "    pd.date_range(start='17:00', end='20:00', freq='H')\n",
    ")\n",
    "\n",
    "# Generate data with higher car counts during peak hours on working days\n",
    "data = {\n",
    "    'date': date_range,\n",
    "    'number_of_cars': [\n",
    "        np.random.randint(50, 100) if date.hour in peak_hours and date.weekday() < 5 else np.random.randint(0, 50)\n",
    "        for date in date_range\n",
    "    ]\n",
    "}\n",
    "\n",
    "df = pd.DataFrame(data)\n",
    "\n",
    "# Convert the 'date' column to datetime index\n",
    "df.set_index('date', inplace=True)\n"
   ]
  },
  {
   "cell_type": "code",
   "execution_count": 76,
   "id": "711ee7eb-61b3-4d7b-bd81-37eb346abb8f",
   "metadata": {
    "execution": {
     "iopub.execute_input": "2023-06-16T17:51:51.405938Z",
     "iopub.status.busy": "2023-06-16T17:51:51.405478Z",
     "iopub.status.idle": "2023-06-16T17:51:52.454084Z",
     "shell.execute_reply": "2023-06-16T17:51:52.453551Z",
     "shell.execute_reply.started": "2023-06-16T17:51:51.405917Z"
    },
    "tags": []
   },
   "outputs": [],
   "source": [
    "\n",
    "\n",
    "def generate_temperature(date):\n",
    "    observer = ephem.Observer()\n",
    "    observer.lat = '45.0355'  # Latitude of Krasnodar, Russia\n",
    "    observer.date = date\n",
    "\n",
    "    sunrise = observer.previous_rising(ephem.Sun()).datetime()\n",
    "    sunset = observer.next_setting(ephem.Sun()).datetime()\n",
    "\n",
    "    temperature_range = {\n",
    "        'spring': (-5, 20),    # Temperature range for spring\n",
    "        'summer': (20, 35),    # Temperature range for summer\n",
    "        'autumn': (5, 20),     # Temperature range for autumn\n",
    "        'winter': (-5, 10)     # Temperature range for winter\n",
    "    }\n",
    "\n",
    "    if sunrise < date < sunset:  # Daytime temperature\n",
    "        if 80 <= date.timetuple().tm_yday <= 171:  # Spring\n",
    "            return np.random.randint(*temperature_range['spring'])\n",
    "        elif 172 <= date.timetuple().tm_yday <= 264:  # Summer\n",
    "            return np.random.randint(*temperature_range['summer'])\n",
    "        elif 265 <= date.timetuple().tm_yday <= 355:  # Autumn\n",
    "            return np.random.randint(*temperature_range['autumn'])\n",
    "        else:  # Winter\n",
    "            return np.random.randint(*temperature_range['winter'])\n",
    "    else:  # Nighttime temperature\n",
    "        return np.random.randint(-10, 5)  # Assume slightly colder temperature during nighttime\n",
    "\n",
    "# Add temperature column to the dataframe\n",
    "df['temperature'] = [generate_temperature(date) for date in df.index]\n"
   ]
  },
  {
   "cell_type": "markdown",
   "id": "ef54f582-a371-49eb-8eed-058ee48515f8",
   "metadata": {},
   "source": [
    "### Вcпомогательные функции"
   ]
  },
  {
   "cell_type": "code",
   "execution_count": 77,
   "id": "836f0009-ee5b-474a-abe3-679bbda456c2",
   "metadata": {
    "execution": {
     "iopub.execute_input": "2023-06-16T17:51:56.083283Z",
     "iopub.status.busy": "2023-06-16T17:51:56.082870Z",
     "iopub.status.idle": "2023-06-16T17:51:56.086730Z",
     "shell.execute_reply": "2023-06-16T17:51:56.086180Z",
     "shell.execute_reply.started": "2023-06-16T17:51:56.083266Z"
    },
    "tags": []
   },
   "outputs": [],
   "source": [
    "def make_features(data, max_lag, rolling_mean_size):\n",
    "    \"\"\"makes additional features for timeseries dataset\"\"\"\n",
    "    data['year'] = data.index.year\n",
    "    data['month'] = data.index.month\n",
    "    data['day'] = data.index.day\n",
    "    data['dayofweek'] = data.index.dayofweek\n",
    "    for i in range(1, max_lag + 1):\n",
    "        column_name = \"lag_\" + str(i)\n",
    "        data[column_name] = data['number_of_cars'].shift(i)\n",
    "    data['rolling_mean'] = data['lag_1'].rolling(rolling_mean_size).mean()\n",
    "    \n",
    "    return data\n"
   ]
  },
  {
   "cell_type": "markdown",
   "id": "f1d6ac0e-27a8-4311-bbe2-27f84551e7f2",
   "metadata": {},
   "source": [
    "### Разделение выборки на тренировочную и тестовую\n",
    "\n",
    "Применяем специальный сплит для временных рядов, чтобы не было утечки данных"
   ]
  },
  {
   "cell_type": "code",
   "execution_count": null,
   "id": "a0483734-b072-4c6c-b108-62c073c23410",
   "metadata": {},
   "outputs": [],
   "source": []
  },
  {
   "cell_type": "code",
   "execution_count": 78,
   "id": "254db275-5c55-4a87-b173-d819dc0a4e70",
   "metadata": {
    "execution": {
     "iopub.execute_input": "2023-06-16T17:52:02.464868Z",
     "iopub.status.busy": "2023-06-16T17:52:02.464627Z",
     "iopub.status.idle": "2023-06-16T17:52:02.467535Z",
     "shell.execute_reply": "2023-06-16T17:52:02.467044Z",
     "shell.execute_reply.started": "2023-06-16T17:52:02.464853Z"
    },
    "tags": []
   },
   "outputs": [],
   "source": [
    "tscv = TimeSeriesSplit(n_splits=5)\n",
    "scoring_metric='neg_mean_squared_error'"
   ]
  },
  {
   "cell_type": "code",
   "execution_count": 79,
   "id": "b7f8d4cb-96c1-4057-b0fe-e5900842a27b",
   "metadata": {
    "execution": {
     "iopub.execute_input": "2023-06-16T17:52:04.242885Z",
     "iopub.status.busy": "2023-06-16T17:52:04.242316Z",
     "iopub.status.idle": "2023-06-16T17:52:04.247660Z",
     "shell.execute_reply": "2023-06-16T17:52:04.247078Z",
     "shell.execute_reply.started": "2023-06-16T17:52:04.242859Z"
    },
    "tags": []
   },
   "outputs": [],
   "source": [
    "def make_features(data, max_lag, rolling_mean_size):\n",
    "    data['year'] = data.index.year\n",
    "    data['month'] = data.index.month\n",
    "    data['day'] = data.index.day\n",
    "    data['dayofweek'] = data.index.dayofweek\n",
    "    \n",
    "    lag_cols = []\n",
    "    for i in range(1, max_lag + 1):\n",
    "        column_name = \"lag_\" + str(i)\n",
    "        data[column_name] = data['number_of_cars'].shift(i)\n",
    "        lag_cols.append(column_name)\n",
    "    \n",
    "    data['rolling_mean'] = data[lag_cols].rolling(rolling_mean_size).mean().values[:, -1]\n",
    "    \n",
    "    return data\n"
   ]
  },
  {
   "cell_type": "markdown",
   "id": "26310adb-430e-484e-aee4-47b974ae0a4c",
   "metadata": {
    "tags": []
   },
   "source": [
    "### Машинное обучение\n",
    "### Подбор параметров модели"
   ]
  },
  {
   "cell_type": "code",
   "execution_count": 81,
   "id": "6e164c1b-176b-40a4-b147-12ecffd09cfb",
   "metadata": {
    "execution": {
     "iopub.execute_input": "2023-06-16T17:52:12.594913Z",
     "iopub.status.busy": "2023-06-16T17:52:12.594713Z",
     "iopub.status.idle": "2023-06-16T17:52:47.344336Z",
     "shell.execute_reply": "2023-06-16T17:52:47.343766Z",
     "shell.execute_reply.started": "2023-06-16T17:52:12.594898Z"
    },
    "tags": []
   },
   "outputs": [
    {
     "name": "stdout",
     "output_type": "stream",
     "text": [
      "Best RMSE: 14.296389589604933\n",
      "Lag: 5\n",
      "Window: 12\n"
     ]
    }
   ],
   "source": [
    "best_rmse = 60\n",
    "lag = 0\n",
    "window = 0\n",
    "\n",
    "for i in range(5, 100, 5):\n",
    "    for k in range(2, 50, 5):\n",
    "        data = df.copy(deep=True)\n",
    "        make_features(data, i, k)\n",
    "        data = data.dropna()\n",
    "        target = data['number_of_cars']\n",
    "        features = data.drop(['number_of_cars'], axis=1)\n",
    "        \n",
    "        model_lin_regression = LinearRegression()\n",
    "        scores = cross_val_score(model_lin_regression, features, target, cv=tscv, scoring=scoring_metric)\n",
    "        rmse = np.sqrt(np.abs(np.mean(scores)))\n",
    "        \n",
    "        if rmse < best_rmse:\n",
    "            best_rmse = rmse\n",
    "            lag = i\n",
    "            window = k\n",
    "\n",
    "print('Best RMSE:', best_rmse)\n",
    "print('Lag:', lag)\n",
    "print('Window:', window)\n"
   ]
  },
  {
   "cell_type": "code",
   "execution_count": null,
   "id": "f63570f8-c77f-48f8-984b-5ab8ddda7830",
   "metadata": {
    "execution": {
     "iopub.execute_input": "2023-06-16T17:52:57.754707Z",
     "iopub.status.busy": "2023-06-16T17:52:57.754231Z"
    },
    "tags": []
   },
   "outputs": [],
   "source": [
    "\n",
    "\n",
    "best_rmse = 60\n",
    "lag = 0\n",
    "window = 0\n",
    "\n",
    "for i in range(5, 100, 5):\n",
    "    for k in range(2, 50, 5):\n",
    "        data = df.copy(deep=True)\n",
    "        make_features(data, i, k)\n",
    "        data = data.dropna()\n",
    "        target = data['number_of_cars']\n",
    "        features = data.drop(['number_of_cars'], axis=1)\n",
    "        \n",
    "        model_lgbm = lgb.LGBMRegressor()\n",
    "        scores = cross_val_score(model_lgbm, features, target, cv=tscv, scoring=scoring_metric)\n",
    "        rmse = np.sqrt(np.abs(np.mean(scores)))\n",
    "        \n",
    "        if rmse < best_rmse:\n",
    "            best_rmse = rmse\n",
    "            lag = i\n",
    "            window = k\n",
    "\n",
    "print('Best RMSE:', best_rmse)\n",
    "print('Lag:', lag)\n",
    "print('Window:', window)\n"
   ]
  },
  {
   "cell_type": "markdown",
   "id": "057d4d88-362d-424d-ad0f-95144a0c7673",
   "metadata": {},
   "source": [
    "### Выводы"
   ]
  },
  {
   "cell_type": "markdown",
   "id": "10f2cc66-5930-48ba-803d-c5683dc676d9",
   "metadata": {
    "execution": {
     "iopub.execute_input": "2023-06-16T17:41:47.148399Z",
     "iopub.status.busy": "2023-06-16T17:41:47.148111Z",
     "iopub.status.idle": "2023-06-16T17:41:47.152087Z",
     "shell.execute_reply": "2023-06-16T17:41:47.151416Z",
     "shell.execute_reply.started": "2023-06-16T17:41:47.148375Z"
    },
    "tags": []
   },
   "source": [
    "1. Можем улучшать качество модели за счет подбора гиперпараметров\n",
    "\n",
    "2. Можем улучшать качество модели за счет добавления новых признаков\n",
    "\n",
    "3. В дальнейшем при добавлении данных с других соседних перекрестков, мы можем использовать более сложные алгоритмы \n",
    "\n",
    "  Autoregressive Integrated Moving Average (ARIMA), \n",
    "\n",
    "  Seasonal ARIMA (SARIMA), \n",
    "\n",
    "  and Exponential Smoothing (ETS) models \n",
    "\n",
    "\n",
    "4. Recurrent Neural Networks (RNNs) and Long Short-Term Memory (LSTM) networks, по мере добавления данных с новых перекрестков\n",
    "\n",
    "\n",
    "5.Подключение api погоды "
   ]
  },
  {
   "cell_type": "code",
   "execution_count": null,
   "id": "2f3f64bf-1d22-4c76-ac80-9d136d2e7a86",
   "metadata": {},
   "outputs": [],
   "source": []
  },
  {
   "cell_type": "code",
   "execution_count": 71,
   "id": "45c93496-5e55-4745-9b10-ebf96234f6ea",
   "metadata": {
    "execution": {
     "iopub.execute_input": "2023-06-16T17:49:33.599017Z",
     "iopub.status.busy": "2023-06-16T17:49:33.598519Z",
     "iopub.status.idle": "2023-06-16T17:49:44.919107Z",
     "shell.execute_reply": "2023-06-16T17:49:44.918553Z",
     "shell.execute_reply.started": "2023-06-16T17:49:33.598991Z"
    },
    "tags": []
   },
   "outputs": [
    {
     "name": "stdout",
     "output_type": "stream",
     "text": [
      "Defaulting to user installation because normal site-packages is not writeable\n",
      "Collecting ephem\n",
      "  Downloading ephem-4.1.4-cp310-cp310-manylinux_2_17_x86_64.manylinux2014_x86_64.whl (1.8 MB)\n",
      "\u001b[2K     \u001b[38;2;114;156;31m━━━━━━━━━━━━━━━━━━━━━━━━━━━━━━━━━━━━━━━━\u001b[0m \u001b[32m1.8/1.8 MB\u001b[0m \u001b[31m327.2 kB/s\u001b[0m eta \u001b[36m0:00:00\u001b[0mm eta \u001b[36m0:00:01\u001b[0m[36m0:00:01\u001b[0m\n",
      "\u001b[?25h\u001b[33mWARNING: Error parsing requirements for pandas: [Errno 2] Нет такого файла или каталога: '/home/nikita/.local/lib/python3.10/site-packages/pandas-1.5.0.dist-info/METADATA'\u001b[0m\u001b[33m\n",
      "\u001b[0mInstalling collected packages: ephem\n",
      "Successfully installed ephem-4.1.4\n",
      "Note: you may need to restart the kernel to use updated packages.\n"
     ]
    }
   ],
   "source": [
    "pip install ephem"
   ]
  },
  {
   "cell_type": "code",
   "execution_count": 72,
   "id": "d3b802fa-f14d-4fc8-b485-af92811fb4d8",
   "metadata": {
    "execution": {
     "iopub.execute_input": "2023-06-16T17:50:08.900449Z",
     "iopub.status.busy": "2023-06-16T17:50:08.900153Z",
     "iopub.status.idle": "2023-06-16T17:50:09.954564Z",
     "shell.execute_reply": "2023-06-16T17:50:09.953965Z",
     "shell.execute_reply.started": "2023-06-16T17:50:08.900430Z"
    },
    "tags": []
   },
   "outputs": [],
   "source": [
    "import ephem\n",
    "\n",
    "def generate_temperature(date):\n",
    "    observer = ephem.Observer()\n",
    "    observer.lat = '45.0355'  # Latitude of Krasnodar, Russia\n",
    "    observer.date = date\n",
    "\n",
    "    sunrise = observer.previous_rising(ephem.Sun()).datetime()\n",
    "    sunset = observer.next_setting(ephem.Sun()).datetime()\n",
    "\n",
    "    temperature_range = {\n",
    "        'spring': (-5, 20),    # Temperature range for spring\n",
    "        'summer': (20, 35),    # Temperature range for summer\n",
    "        'autumn': (5, 20),     # Temperature range for autumn\n",
    "        'winter': (-5, 10)     # Temperature range for winter\n",
    "    }\n",
    "\n",
    "    if sunrise < date < sunset:  # Daytime temperature\n",
    "        if 80 <= date.timetuple().tm_yday <= 171:  # Spring\n",
    "            return np.random.randint(*temperature_range['spring'])\n",
    "        elif 172 <= date.timetuple().tm_yday <= 264:  # Summer\n",
    "            return np.random.randint(*temperature_range['summer'])\n",
    "        elif 265 <= date.timetuple().tm_yday <= 355:  # Autumn\n",
    "            return np.random.randint(*temperature_range['autumn'])\n",
    "        else:  # Winter\n",
    "            return np.random.randint(*temperature_range['winter'])\n",
    "    else:  # Nighttime temperature\n",
    "        return np.random.randint(-10, 5)  # Assume slightly colder temperature during nighttime\n",
    "\n",
    "# Add temperature column to the dataframe\n",
    "df['temperature'] = [generate_temperature(date) for date in df.index]\n"
   ]
  }
 ],
 "metadata": {
  "kernelspec": {
   "display_name": "Python 3 (ipykernel)",
   "language": "python",
   "name": "python3"
  },
  "language_info": {
   "codemirror_mode": {
    "name": "ipython",
    "version": 3
   },
   "file_extension": ".py",
   "mimetype": "text/x-python",
   "name": "python",
   "nbconvert_exporter": "python",
   "pygments_lexer": "ipython3",
   "version": "3.10.6"
  }
 },
 "nbformat": 4,
 "nbformat_minor": 5
}
